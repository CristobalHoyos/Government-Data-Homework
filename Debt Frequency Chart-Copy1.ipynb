{
 "cells": [
  {
   "cell_type": "code",
   "execution_count": 1,
   "id": "414a47ef",
   "metadata": {},
   "outputs": [
    {
     "name": "stdout",
     "output_type": "stream",
     "text": [
      "   year  qtr   cbsa   low  high\n",
      "0  1999    1  10180  0.51  1.02\n",
      "1  1999    1  10420  1.14  1.25\n",
      "2  1999    1  10500  0.51  1.02\n",
      "3  1999    1  10540  1.25  1.35\n",
      "4  1999    1  10580  0.51  1.02\n"
     ]
    }
   ],
   "source": [
    "#Importing libraries\n",
    "import pandas as pd\n",
    "import matplotlib\n",
    "\n",
    "file = \"household-debt-by-msa.csv\"\n",
    "df = pd.read_csv(file) \n",
    "print(df.head())\n"
   ]
  },
  {
   "cell_type": "code",
   "execution_count": 2,
   "id": "10216efb",
   "metadata": {},
   "outputs": [
    {
     "name": "stdout",
     "output_type": "stream",
     "text": [
      "['year', 'qtr', 'cbsa', 'low', 'high']\n"
     ]
    }
   ],
   "source": [
    "print(list(df))"
   ]
  },
  {
   "cell_type": "code",
   "execution_count": 12,
   "id": "26ab3dfe",
   "metadata": {},
   "outputs": [
    {
     "name": "stdout",
     "output_type": "stream",
     "text": [
      "   Lower bound of Debt-to-Income ratio category.  frequency\n",
      "5                                           0.51       3479\n",
      "7                                           1.02       3440\n",
      "0                                           1.14       3796\n",
      "9                                           1.25       3251\n",
      "1                                           1.35       3610\n",
      "8                                           1.47       3425\n",
      "2                                           1.61       3605\n",
      "4                                           1.79       3484\n",
      "3                                           2.06       3497\n",
      "6                                           2.51       3465\n"
     ]
    }
   ],
   "source": [
    "col = 'low' #<-edit this value! column name as it appears in dataframe\n",
    "col_name = 'Lower bound of Debt-to-Income ratio category.' #<-edit this value! descriptive name for column\n",
    "freq = df[col].value_counts().rename_axis(col_name).reset_index(name='frequency')\n",
    "freq = freq.sort_values(by = col_name)\n",
    "print(freq)"
   ]
  },
  {
   "cell_type": "code",
   "execution_count": 13,
   "id": "34ed9d94",
   "metadata": {
    "scrolled": true
   },
   "outputs": [
    {
     "data": {
      "image/png": "[encoded data removed]",
      "text/plain": [
       "<Figure size 432x288 with 1 Axes>"
      ]
     },
     "metadata": {
      "needs_background": "light"
     },
     "output_type": "display_data"
    }
   ],
   "source": [
    "#create frequency chart\n",
    "ax = freq.plot.barh(x=col_name, y='frequency', rot=0)"
   ]
  },
  {
   "cell_type": "code",
   "execution_count": 16,
   "id": "dc827c6f",
   "metadata": {},
   "outputs": [
    {
     "name": "stdout",
     "output_type": "stream",
     "text": [
      "1.4699278215222393\n",
      "1.35\n",
      "0.5319398826240738\n"
     ]
    }
   ],
   "source": [
    "quant_col = \"low\"\n",
    "\n",
    "mean = df[quant_col].mean()\n",
    "print(mean)\n",
    "\n",
    "median = df[quant_col].median()\n",
    "print(median)\n",
    "\n",
    "standard_deviation = df[quant_col].std()\n",
    "print(standard_deviation)"
   ]
  }
 ],
 "metadata": {
  "kernelspec": {
   "display_name": "Python 3 (ipykernel)",
   "language": "python",
   "name": "python3"
  },
  "language_info": {
   "codemirror_mode": {
    "name": "ipython",
    "version": 3
   },
   "file_extension": ".py",
   "mimetype": "text/x-python",
   "name": "python",
   "nbconvert_exporter": "python",
   "pygments_lexer": "ipython3",
   "version": "3.9.12"
  }
 },
 "nbformat": 4,
 "nbformat_minor": 5
}
